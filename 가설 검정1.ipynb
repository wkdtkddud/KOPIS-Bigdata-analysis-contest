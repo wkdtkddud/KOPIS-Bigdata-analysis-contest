{
 "cells": [
  {
   "cell_type": "code",
   "execution_count": 1,
   "id": "84b9b36b",
   "metadata": {},
   "outputs": [],
   "source": [
    "from matplotlib import pyplot as plt\n",
    "from scipy.stats import *\n",
    "import seaborn as sns\n",
    "import pandas as pd\n",
    "import os\n",
    "os.chdir(r\"C:\\Users\\82102\\Desktop\\kopis 공모전\")"
   ]
  },
  {
   "cell_type": "markdown",
   "id": "20586d55",
   "metadata": {},
   "source": [
    "# 2019년"
   ]
  },
  {
   "cell_type": "markdown",
   "id": "bab6e8b9",
   "metadata": {},
   "source": [
    "## 2019년도 preprocessing"
   ]
  },
  {
   "cell_type": "code",
   "execution_count": 2,
   "id": "3a928fb6",
   "metadata": {},
   "outputs": [
    {
     "data": {
      "text/plain": [
       "[\"(데이터)'19년 하반기~ '22년 상반기 공모전 raw데이터_2019_07_01_kopis.xlsx\",\n",
       " \"(데이터)'19년 하반기~ '22년 상반기 공모전 raw데이터_2019_07_11_kopis.xlsx\",\n",
       " \"(데이터)'19년 하반기~ '22년 상반기 공모전 raw데이터_2019_07_21_kopis.xlsx\",\n",
       " \"(데이터)'19년 하반기~ '22년 상반기 공모전 raw데이터_2019_08_01_kopis.xlsx\",\n",
       " \"(데이터)'19년 하반기~ '22년 상반기 공모전 raw데이터_2019_08_11_kopis.xlsx\",\n",
       " \"(데이터)'19년 하반기~ '22년 상반기 공모전 raw데이터_2019_08_21_kopis.xlsx\",\n",
       " \"(데이터)'19년 하반기~ '22년 상반기 공모전 raw데이터_2019_09_01_kopis.xlsx\",\n",
       " \"(데이터)'19년 하반기~ '22년 상반기 공모전 raw데이터_2019_09_11_kopis.xlsx\",\n",
       " \"(데이터)'19년 하반기~ '22년 상반기 공모전 raw데이터_2019_09_21_kopis.xlsx\",\n",
       " \"(데이터)'19년 하반기~ '22년 상반기 공모전 raw데이터_2019_10_01_kopis.xlsx\",\n",
       " \"(데이터)'19년 하반기~ '22년 상반기 공모전 raw데이터_2019_10_11_kopis.xlsx\",\n",
       " \"(데이터)'19년 하반기~ '22년 상반기 공모전 raw데이터_2019_10_21_kopis.xlsx\",\n",
       " \"(데이터)'19년 하반기~ '22년 상반기 공모전 raw데이터_2019_11_01_kopis.xlsx\",\n",
       " \"(데이터)'19년 하반기~ '22년 상반기 공모전 raw데이터_2019_11_11_kopis.xlsx\",\n",
       " \"(데이터)'19년 하반기~ '22년 상반기 공모전 raw데이터_2019_11_21_kopis.xlsx\",\n",
       " \"(데이터)'19년 하반기~ '22년 상반기 공모전 raw데이터_2019_12_01_kopis.xlsx\",\n",
       " \"(데이터)'19년 하반기~ '22년 상반기 공모전 raw데이터_2019_12_11_kopis.xlsx\",\n",
       " \"(데이터)'19년 하반기~ '22년 상반기 공모전 raw데이터_2019_12_16_kopis.xlsx\",\n",
       " \"(데이터)'19년 하반기~ '22년 상반기 공모전 raw데이터_2019_12_21_kopis.xlsx\",\n",
       " \"(데이터)'19년 하반기~ '22년 상반기 공모전 raw데이터_2019_12_24_kopis.xlsx\",\n",
       " \"(데이터)'19년 하반기~ '22년 상반기 공모전 raw데이터_2019_12_26_kopis.xlsx\"]"
      ]
     },
     "execution_count": 2,
     "metadata": {},
     "output_type": "execute_result"
    }
   ],
   "source": [
    "os.listdir(\"2019\")"
   ]
  },
  {
   "cell_type": "code",
   "execution_count": 3,
   "id": "3edd5250",
   "metadata": {},
   "outputs": [],
   "source": [
    "merged_df_2019 = pd.DataFrame()\n",
    "\n",
    "for file in os.listdir(\"2019\"):\n",
    "    if \"kopis.xlsx\" in file:\n",
    "        df = pd.read_excel(\"2019/\" + file) \n",
    "        merged_df_2019 = pd.concat([merged_df_2019, df], axis=0, ignore_index=True) "
   ]
  },
  {
   "cell_type": "code",
   "execution_count": 4,
   "id": "98698293",
   "metadata": {
    "scrolled": true
   },
   "outputs": [],
   "source": [
    "dup_merged_df_2019 = merged_df_2019.drop_duplicates(['공연코드'])"
   ]
  },
  {
   "cell_type": "code",
   "execution_count": 5,
   "id": "d4721e6a",
   "metadata": {},
   "outputs": [],
   "source": [
    "# 관객수 파생변수 생성\n",
    "df1 = merged_df_2019[['공연코드','예매/취소구분']].copy()\n",
    "df2 = pd.DataFrame()\n",
    "df3 = pd.DataFrame()\n",
    "for i in df1['공연코드'].unique().tolist():\n",
    "    df2 = df1[df1['공연코드']==i].copy()\n",
    "        \n",
    "    cnt1 = len(df2[df2['예매/취소구분']==1]) # 예매/취소구분이 1인 개수\n",
    "    cnt2 = len(df2[df2['예매/취소구분']==2]) # 예매/취소구분이 2인 개수\n",
    "    df2['관객수'] = cnt1 - cnt2 # 1에서 2를 뺀 개수를 관객수\n",
    "    df2 = df2.drop('예매/취소구분', axis=1)\n",
    "        \n",
    "    df3 = pd.concat([df3, df2], axis = 0).copy()\n",
    "    df3 = df3.drop_duplicates()\n",
    "    \n",
    "df3 = df3.groupby('공연코드')['관객수'].sum()"
   ]
  },
  {
   "cell_type": "code",
   "execution_count": 6,
   "id": "b10fc800",
   "metadata": {},
   "outputs": [],
   "source": [
    "df3 = pd.DataFrame(data=df3)\n",
    "df4 = pd.merge(dup_merged_df_2019, df3, left_on='공연코드', right_on='공연코드')"
   ]
  },
  {
   "cell_type": "code",
   "execution_count": 7,
   "id": "d60d3dcd",
   "metadata": {},
   "outputs": [],
   "source": [
    "final_2019 = df4.set_index('공연코드')"
   ]
  },
  {
   "cell_type": "code",
   "execution_count": 8,
   "id": "1c4c7177",
   "metadata": {},
   "outputs": [],
   "source": [
    "# 극작가명 컬럼에 각색이라는 키워드여부에 따라 각색여부 판단\n",
    "row_indexes=final_2019.loc[final_2019['극작가명'].str.contains('각색', na=False)].index\n",
    "final_2019.loc[row_indexes,'각색여부']=1\n",
    "row_indexes=final_2019.loc[~final_2019['극작가명'].str.contains('각색', na=False)].index\n",
    "final_2019.loc[row_indexes,'각색여부']=0"
   ]
  },
  {
   "cell_type": "code",
   "execution_count": 9,
   "id": "9073e546",
   "metadata": {},
   "outputs": [],
   "source": [
    "# 불필요한 컬럼 제거\n",
    "final_2019.drop(['시설특성','공연일시','예매/취소구분','장당금액','공연시작일자','공연종료일자','장르명','원작자명','극작가명', \n",
    "                 '수상실적','관람연령','축제 여부','내한공연 여부','오픈런 여부','단독판매여부'], axis=1, inplace = True)\n",
    "# 불필요한 용량 제거\n",
    "final_2019['각색여부'] = final_2019[\"각색여부\"].astype('int8')\n",
    "final_2019['관객수'] = final_2019[\"관객수\"].astype('int32')"
   ]
  },
  {
   "cell_type": "code",
   "execution_count": 10,
   "id": "f197ad47",
   "metadata": {},
   "outputs": [],
   "source": [
    "# EDA 및 전처리가 된 상태로 파일저장\n",
    "final_2019.to_excel(\"final_2019.xlsx\")"
   ]
  },
  {
   "cell_type": "markdown",
   "id": "a8faa0a2",
   "metadata": {},
   "source": [
    "## 2019년도 각색 여부에 따른 비율"
   ]
  },
  {
   "cell_type": "code",
   "execution_count": 11,
   "id": "406759ba",
   "metadata": {},
   "outputs": [],
   "source": [
    "final_2019 = pd.read_excel(\"final_2019.xlsx\")\n",
    "# 관객수 데이터 중 음수 제거\n",
    "final_2019 = final_2019[final_2019['관객수']>0]"
   ]
  },
  {
   "cell_type": "code",
   "execution_count": 12,
   "id": "71bb2c85",
   "metadata": {},
   "outputs": [
    {
     "data": {
      "image/png": "[encoded data removed]",
      "text/plain": [
       "<Figure size 360x360 with 1 Axes>"
      ]
     },
     "metadata": {},
     "output_type": "display_data"
    }
   ],
   "source": [
    "%matplotlib inline\n",
    "plt.rcParams['figure.figsize'] = (5, 5)\n",
    "plt.rcParams['font.size'] = 15\n",
    "plt.rcParams['font.family'] = 'Malgun Gothic'\n",
    "\n",
    "ratio = [final_2019.loc[final_2019['각색여부']==1]['공연코드'].count(), \n",
    "         final_2019.loc[final_2019['각색여부']==0]['공연코드'].count()]\n",
    "labels = ['각색 연극', '비각색 연극']\n",
    "explode = [0, 0.2]\n",
    "colors = ['#F08080', '#FFF8DC']\n",
    "title_font = {'fontsize': 15, 'fontweight': 'bold'}\n",
    "\n",
    "plt.title('2019년도 각색 여부에 따른 연극 비율', fontdict=title_font)\n",
    "plt.pie(ratio, labels=labels, autopct='%.1f%%', explode=explode, colors=colors, shadow=True)\n",
    "plt.show()"
   ]
  },
  {
   "cell_type": "markdown",
   "id": "b50fe413",
   "metadata": {},
   "source": [
    "## 2019년도 독립표본 t 검정 "
   ]
  },
  {
   "cell_type": "code",
   "execution_count": 13,
   "id": "82f14b9e",
   "metadata": {},
   "outputs": [],
   "source": [
    "final_2019 = pd.read_excel(\"final_2019.xlsx\")\n",
    "# 관객수 데이터 중 음수 제거\n",
    "final_2019 = final_2019[final_2019['관객수']>0]"
   ]
  },
  {
   "cell_type": "code",
   "execution_count": 14,
   "id": "dfeeb03f",
   "metadata": {},
   "outputs": [],
   "source": [
    "dramatic2019 = final_2019.loc[final_2019['각색여부']==1]\n",
    "nondramatic2019 = final_2019.loc[final_2019['각색여부']==0]"
   ]
  },
  {
   "cell_type": "code",
   "execution_count": 15,
   "id": "f893d5bb",
   "metadata": {},
   "outputs": [],
   "source": [
    "dramatic2019_aud = dramatic2019['관객수'].values\n",
    "nondramatic2019_aud = nondramatic2019['관객수'].values"
   ]
  },
  {
   "cell_type": "code",
   "execution_count": 16,
   "id": "3184806e",
   "metadata": {},
   "outputs": [],
   "source": [
    "group_dramatic2019_aud = dramatic2019_aud[dramatic2019_aud > 0]\n",
    "group_nondramatic2019_aud = nondramatic2019_aud[nondramatic2019_aud > 0]"
   ]
  },
  {
   "cell_type": "code",
   "execution_count": 17,
   "id": "784bad0b",
   "metadata": {},
   "outputs": [
    {
     "name": "stdout",
     "output_type": "stream",
     "text": [
      "원작을 각색한 연극 : KstestResult(statistic=0.9513528046710726, pvalue=9.673547351549821e-195)\n",
      "원작을 각색하지 않은 연극 : KstestResult(statistic=0.9598282652643644, pvalue=0.0)\n",
      "등분산성 검정 : LeveneResult(statistic=11.261455527724259, pvalue=0.000814276275903258)\n",
      "독립표본 T검정 : Ttest_indResult(statistic=1.5347759292769376, pvalue=0.12694454886747905)\n"
     ]
    }
   ],
   "source": [
    "from scipy.stats import *\n",
    "# 정규성 검정\n",
    "print('원작을 각색한 연극 :',kstest(group_dramatic2019_aud, 'norm'))\n",
    "print('원작을 각색하지 않은 연극 :',kstest(group_nondramatic2019_aud, 'norm'))\n",
    "# 등분산성 검정\n",
    "print('등분산성 검정 :',levene(group_dramatic2019_aud, group_nondramatic2019_aud))\n",
    "# ttest\n",
    "print('독립표본 T검정 :',ttest_ind(group_dramatic2019_aud, group_nondramatic2019_aud, equal_var=False))"
   ]
  },
  {
   "cell_type": "markdown",
   "id": "d699c164",
   "metadata": {},
   "source": [
    "## 2019년도 각색 여부에 따른 평균 관객수 비교"
   ]
  },
  {
   "cell_type": "code",
   "execution_count": 18,
   "id": "722e854b",
   "metadata": {},
   "outputs": [],
   "source": [
    "final_2019 = pd.read_excel(\"final_2019.xlsx\")\n",
    "# 관객수 데이터 중 음수 제거\n",
    "final_2019 = final_2019[final_2019['관객수']>0]"
   ]
  },
  {
   "cell_type": "code",
   "execution_count": 19,
   "id": "37fab9ac",
   "metadata": {},
   "outputs": [
    {
     "data": {
      "text/plain": [
       "Text(0, 0.5, '평균 관객수(명)')"
      ]
     },
     "execution_count": 19,
     "metadata": {},
     "output_type": "execute_result"
    },
    {
     "data": {
      "image/png": "[encoded data removed]",
      "text/plain": [
       "<Figure size 360x360 with 1 Axes>"
      ]
     },
     "metadata": {},
     "output_type": "display_data"
    }
   ],
   "source": [
    "%matplotlib inline\n",
    "\n",
    "plt.rcParams[\"figure.figsize\"]=(5, 5)\n",
    "sns.set_style('whitegrid')\n",
    "sns.set(font=\"Malgun Gothic\", \n",
    "        rc={\"axes.unicode_minus\":False},\n",
    "        style='darkgrid')\n",
    "g=sns.barplot(x='각색여부', y='관객수', palette='Set3',data=final_2019, ci=None)\n",
    "g.set_xticklabels(['비각색','각색'], fontsize = 15)\n",
    "g.set_title('2019년도 각색여부에 따른 평균 연극관객수',fontsize = 15, pad=30)\n",
    "plt.xlabel('', fontsize = 15)\n",
    "plt.ylabel('평균 관객수(명)', fontsize = 15)"
   ]
  },
  {
   "cell_type": "markdown",
   "id": "8c453311",
   "metadata": {},
   "source": [
    "# 2020"
   ]
  },
  {
   "cell_type": "markdown",
   "id": "af9a3d00",
   "metadata": {},
   "source": [
    "## 2020년도 preprocessing"
   ]
  },
  {
   "cell_type": "code",
   "execution_count": 20,
   "id": "a2d8624b",
   "metadata": {},
   "outputs": [
    {
     "data": {
      "text/plain": [
       "[\"(데이터)'19년 하반기~ '22년 상반기 공모전 raw데이터_2020_01_01_kopis.xlsx\",\n",
       " \"(데이터)'19년 하반기~ '22년 상반기 공모전 raw데이터_2020_01_11_kopis.xlsx\",\n",
       " \"(데이터)'19년 하반기~ '22년 상반기 공모전 raw데이터_2020_01_21_kopis.xlsx\",\n",
       " \"(데이터)'19년 하반기~ '22년 상반기 공모전 raw데이터_2020_02_01_kopis.xlsx\",\n",
       " \"(데이터)'19년 하반기~ '22년 상반기 공모전 raw데이터_2020_02_16_kopis.xlsx\",\n",
       " \"(데이터)'19년 하반기~ '22년 상반기 공모전 raw데이터_2020_03_01_kopis.xlsx\",\n",
       " \"(데이터)'19년 하반기~ '22년 상반기 공모전 raw데이터_2020_04_01_kopis.xlsx\",\n",
       " \"(데이터)'19년 하반기~ '22년 상반기 공모전 raw데이터_2020_05_01_kopis.xlsx\",\n",
       " \"(데이터)'19년 하반기~ '22년 상반기 공모전 raw데이터_2020_06_01_kopis.xlsx\",\n",
       " \"(데이터)'19년 하반기~ '22년 상반기 공모전 raw데이터_2020_07_01_kopis.xlsx\",\n",
       " \"(데이터)'19년 하반기~ '22년 상반기 공모전 raw데이터_2020_07_16_kopis.xlsx\",\n",
       " \"(데이터)'19년 하반기~ '22년 상반기 공모전 raw데이터_2020_08_01_kopis.xlsx\",\n",
       " \"(데이터)'19년 하반기~ '22년 상반기 공모전 raw데이터_2020_08_16_kopis.xlsx\",\n",
       " \"(데이터)'19년 하반기~ '22년 상반기 공모전 raw데이터_2020_09_01_kopis.xlsx\",\n",
       " \"(데이터)'19년 하반기~ '22년 상반기 공모전 raw데이터_2020_10_01_kopis.xlsx\",\n",
       " \"(데이터)'19년 하반기~ '22년 상반기 공모전 raw데이터_2020_11_01_kopis.xlsx\",\n",
       " \"(데이터)'19년 하반기~ '22년 상반기 공모전 raw데이터_2020_11_16_kopis.xlsx\",\n",
       " \"(데이터)'19년 하반기~ '22년 상반기 공모전 raw데이터_2020_12_01_kopis.xlsx\",\n",
       " \"(데이터)'19년 하반기~ '22년 상반기 공모전 raw데이터_2020_12_16_kopis.xlsx\"]"
      ]
     },
     "execution_count": 20,
     "metadata": {},
     "output_type": "execute_result"
    }
   ],
   "source": [
    "os.listdir(\"2020\")"
   ]
  },
  {
   "cell_type": "code",
   "execution_count": 21,
   "id": "8379bb04",
   "metadata": {},
   "outputs": [],
   "source": [
    "merged_df_2020 = pd.DataFrame()\n",
    "\n",
    "for file in os.listdir(\"2020\"):\n",
    "    if \"kopis.xlsx\" in file:\n",
    "        df = pd.read_excel(\"2020/\" + file) \n",
    "        merged_df_2020 = pd.concat([merged_df_2020, df], axis=0, ignore_index=True)"
   ]
  },
  {
   "cell_type": "code",
   "execution_count": 22,
   "id": "5d276a99",
   "metadata": {},
   "outputs": [],
   "source": [
    "dup_merged_df_2020 = merged_df_2020.drop_duplicates(['공연코드'])"
   ]
  },
  {
   "cell_type": "code",
   "execution_count": 23,
   "id": "58105e64",
   "metadata": {},
   "outputs": [],
   "source": [
    "# 관객수 파생변수 생성\n",
    "df1 = merged_df_2020[['공연코드','예매/취소구분']].copy()\n",
    "df2 = pd.DataFrame()\n",
    "df3 = pd.DataFrame()\n",
    "for i in df1['공연코드'].unique().tolist():\n",
    "    df2 = df1[df1['공연코드']==i].copy()\n",
    "        \n",
    "    cnt1 = len(df2[df2['예매/취소구분']==1]) # 예매/취소구분이 1인 개수\n",
    "    cnt2 = len(df2[df2['예매/취소구분']==2]) # 예매/취소구분이 2인 개수\n",
    "    df2['관객수'] = cnt1 - cnt2 # 1에서 2를 뺀 개수를 관객수로 명명\n",
    "    df2 = df2.drop('예매/취소구분', axis=1)\n",
    "        \n",
    "    df3 = pd.concat([df3, df2], axis = 0).copy()\n",
    "    df3 = df3.drop_duplicates()\n",
    "    \n",
    "df3 = df3.groupby('공연코드')['관객수'].sum()"
   ]
  },
  {
   "cell_type": "code",
   "execution_count": 24,
   "id": "56e256ce",
   "metadata": {},
   "outputs": [],
   "source": [
    "df3 = pd.DataFrame(data=df3)\n",
    "df4 = pd.merge(dup_merged_df_2020, df3, left_on='공연코드', right_on='공연코드')"
   ]
  },
  {
   "cell_type": "code",
   "execution_count": 25,
   "id": "aa69eee8",
   "metadata": {},
   "outputs": [],
   "source": [
    "final_2020 = df4.set_index('공연코드')"
   ]
  },
  {
   "cell_type": "code",
   "execution_count": 26,
   "id": "ca951d16",
   "metadata": {},
   "outputs": [],
   "source": [
    "# 극작가명 컬럼에 각색이라는 키워드여부에 따라 각색여부 판단\n",
    "row_indexes=final_2020.loc[final_2020['극작가명'].str.contains('각색', na=False)].index\n",
    "final_2020.loc[row_indexes,'각색여부']=1\n",
    "row_indexes=final_2020.loc[~final_2020['극작가명'].str.contains('각색', na=False)].index\n",
    "final_2020.loc[row_indexes,'각색여부']=0"
   ]
  },
  {
   "cell_type": "code",
   "execution_count": 27,
   "id": "3294ffa6",
   "metadata": {},
   "outputs": [],
   "source": [
    "# 불필요한 컬럼 제거\n",
    "final_2020.drop(['시설특성','공연일시','예매/취소구분','장당금액','공연시작일자','공연종료일자','장르명','원작자명','극작가명', \n",
    "                 '수상실적','관람연령','축제 여부','내한공연 여부','오픈런 여부','단독판매여부'], axis=1, inplace = True)\n",
    "# 불필요한 용량 제거\n",
    "final_2020['각색여부'] = final_2020[\"각색여부\"].astype('int8')\n",
    "final_2020['관객수'] = final_2020[\"관객수\"].astype('int32')"
   ]
  },
  {
   "cell_type": "code",
   "execution_count": 28,
   "id": "a4ed3d8c",
   "metadata": {},
   "outputs": [],
   "source": [
    "# EDA 및 전처리가 된 상태로 파일저장\n",
    "final_2020.to_excel(\"final_2020.xlsx\")"
   ]
  },
  {
   "cell_type": "markdown",
   "id": "ec632c52",
   "metadata": {},
   "source": [
    "## 2020년도 각색 여부에 따른 비율"
   ]
  },
  {
   "cell_type": "code",
   "execution_count": 29,
   "id": "d2c8d046",
   "metadata": {},
   "outputs": [],
   "source": [
    "final_2020 = pd.read_excel(\"final_2020.xlsx\")\n",
    "# 관객수 데이터 중 음수 제거\n",
    "final_2020 = final_2020[final_2020['관객수']>0]"
   ]
  },
  {
   "cell_type": "code",
   "execution_count": 30,
   "id": "13fe5467",
   "metadata": {},
   "outputs": [
    {
     "data": {
      "image/png": "[encoded data removed]",
      "text/plain": [
       "<Figure size 360x360 with 1 Axes>"
      ]
     },
     "metadata": {},
     "output_type": "display_data"
    }
   ],
   "source": [
    "%matplotlib inline\n",
    "plt.rcParams['figure.figsize'] = (5, 5)\n",
    "plt.rcParams['font.size'] = 15\n",
    "plt.rcParams['font.family'] = 'Malgun Gothic'\n",
    "\n",
    "ratio = [final_2020.loc[final_2020['각색여부']==1]['공연코드'].count(), \n",
    "         final_2020.loc[final_2020['각색여부']==0]['공연코드'].count()]\n",
    "labels = ['각색 연극', '비각색 연극']\n",
    "explode = [0, 0.2]\n",
    "colors = ['#F08080', '#FFF8DC']\n",
    "title_font = {'fontsize': 15, 'fontweight': 'bold'}\n",
    "\n",
    "plt.title('2020년도 각색 여부에 따른 연극 비율', fontdict=title_font)\n",
    "plt.pie(ratio, labels=labels, autopct='%.1f%%', explode=explode, colors=colors, shadow=True)\n",
    "plt.show()"
   ]
  },
  {
   "cell_type": "markdown",
   "id": "058fa9cb",
   "metadata": {},
   "source": [
    "## 2020년도 독립표본 t 검정"
   ]
  },
  {
   "cell_type": "code",
   "execution_count": 31,
   "id": "6742db82",
   "metadata": {},
   "outputs": [],
   "source": [
    "final_2020 = pd.read_excel(\"final_2020.xlsx\")\n",
    "# 관객수 데이터 중 음수 제거\n",
    "final_2020 = final_2020[final_2020['관객수']>0]"
   ]
  },
  {
   "cell_type": "code",
   "execution_count": 32,
   "id": "3d80eb1d",
   "metadata": {},
   "outputs": [],
   "source": [
    "dramatic2020 = final_2020.loc[final_2020['각색여부']==1]\n",
    "nondramatic2020 = final_2020.loc[final_2020['각색여부']==0]"
   ]
  },
  {
   "cell_type": "code",
   "execution_count": 33,
   "id": "9e6f4c4e",
   "metadata": {},
   "outputs": [],
   "source": [
    "dramatic2020_aud = dramatic2020['관객수'].values\n",
    "nondramatic2020_aud = nondramatic2020['관객수'].values"
   ]
  },
  {
   "cell_type": "code",
   "execution_count": 34,
   "id": "0f4e50c5",
   "metadata": {},
   "outputs": [],
   "source": [
    "group_dramatic2020_aud = dramatic2020_aud[dramatic2020_aud > 0]\n",
    "group_nondramatic2020_aud = nondramatic2020_aud[nondramatic2020_aud > 0]"
   ]
  },
  {
   "cell_type": "code",
   "execution_count": 35,
   "id": "072f5834",
   "metadata": {},
   "outputs": [
    {
     "name": "stdout",
     "output_type": "stream",
     "text": [
      "원작을 각색한 연극 : KstestResult(statistic=0.9500389908572587, pvalue=8.015371904574603e-188)\n",
      "원작을 각색하지 않은 연극 : KstestResult(statistic=0.9550929331843409, pvalue=0.0)\n",
      "등분산성 검정 : LeveneResult(statistic=7.2009942814568895, pvalue=0.007382973377467101)\n",
      "독립표본 T검정 : Ttest_indResult(statistic=1.2607309804023248, pvalue=0.2094075514573596)\n"
     ]
    }
   ],
   "source": [
    "# 정규성 검정\n",
    "print('원작을 각색한 연극 :',kstest(group_dramatic2020_aud, 'norm'))\n",
    "print('원작을 각색하지 않은 연극 :',kstest(group_nondramatic2020_aud, 'norm'))\n",
    "# 등분산성 검정\n",
    "print('등분산성 검정 :',levene(group_dramatic2020_aud, group_nondramatic2020_aud))\n",
    "# ttest\n",
    "print('독립표본 T검정 :',ttest_ind(group_dramatic2020_aud, group_nondramatic2020_aud, equal_var=False))"
   ]
  },
  {
   "cell_type": "markdown",
   "id": "7cc83d5c",
   "metadata": {},
   "source": [
    "## 2020년도 각색 여부에 따른 평균 관객수 비교"
   ]
  },
  {
   "cell_type": "code",
   "execution_count": 36,
   "id": "4ad67ea2",
   "metadata": {},
   "outputs": [],
   "source": [
    "final_2020 = pd.read_excel(\"final_2020.xlsx\")\n",
    "# 관객수 데이터 중 음수 제거\n",
    "final_2020 = final_2020[final_2020['관객수']>0]"
   ]
  },
  {
   "cell_type": "code",
   "execution_count": 37,
   "id": "ab99b2fc",
   "metadata": {},
   "outputs": [
    {
     "data": {
      "text/plain": [
       "Text(0, 0.5, '평균 관객수(명)')"
      ]
     },
     "execution_count": 37,
     "metadata": {},
     "output_type": "execute_result"
    },
    {
     "data": {
      "image/png": "[encoded data removed]",
      "text/plain": [
       "<Figure size 360x360 with 1 Axes>"
      ]
     },
     "metadata": {},
     "output_type": "display_data"
    }
   ],
   "source": [
    "%matplotlib inline\n",
    "\n",
    "plt.rcParams[\"figure.figsize\"]=(5, 5)\n",
    "sns.set_style('whitegrid')\n",
    "sns.set(font=\"Malgun Gothic\", \n",
    "        rc={\"axes.unicode_minus\":False},\n",
    "        style='darkgrid')\n",
    "g=sns.barplot(x='각색여부', y='관객수', palette='Set3',data=final_2020, ci=None)\n",
    "g.set_xticklabels(['비각색','각색'], fontsize = 15)\n",
    "g.set_title('2020년도 각색여부에 따른 평균 연극관객수',fontsize = 15, pad=30)\n",
    "plt.xlabel('', fontsize = 15)\n",
    "plt.ylabel('평균 관객수(명)', fontsize = 15)"
   ]
  },
  {
   "cell_type": "markdown",
   "id": "970ba9d1",
   "metadata": {},
   "source": [
    "# 2021"
   ]
  },
  {
   "cell_type": "markdown",
   "id": "234bf3e4",
   "metadata": {},
   "source": [
    "## 2021년도 preprocessing"
   ]
  },
  {
   "cell_type": "code",
   "execution_count": 38,
   "id": "b5142251",
   "metadata": {},
   "outputs": [
    {
     "data": {
      "text/plain": [
       "[\"(데이터)'19년 하반기~ '22년 상반기 공모전 raw데이터_2021_01_01_kopis.xlsx\",\n",
       " \"(데이터)'19년 하반기~ '22년 상반기 공모전 raw데이터_2021_02_01_kopis.xlsx\",\n",
       " \"(데이터)'19년 하반기~ '22년 상반기 공모전 raw데이터_2021_03_01_kopis.xlsx\",\n",
       " \"(데이터)'19년 하반기~ '22년 상반기 공모전 raw데이터_2021_04_01_kopis.xlsx\",\n",
       " \"(데이터)'19년 하반기~ '22년 상반기 공모전 raw데이터_2021_04_16_kopis.xlsx\",\n",
       " \"(데이터)'19년 하반기~ '22년 상반기 공모전 raw데이터_2021_05_01_kopis.xlsx\",\n",
       " \"(데이터)'19년 하반기~ '22년 상반기 공모전 raw데이터_2021_05_16_kopis.xlsx\",\n",
       " \"(데이터)'19년 하반기~ '22년 상반기 공모전 raw데이터_2021_06_01_kopis.xlsx\",\n",
       " \"(데이터)'19년 하반기~ '22년 상반기 공모전 raw데이터_2021_06_16_kopis.xlsx\",\n",
       " \"(데이터)'19년 하반기~ '22년 상반기 공모전 raw데이터_2021_07_01_kopis.xlsx\",\n",
       " \"(데이터)'19년 하반기~ '22년 상반기 공모전 raw데이터_2021_07_11_kopis.xlsx\",\n",
       " \"(데이터)'19년 하반기~ '22년 상반기 공모전 raw데이터_2021_07_21_kopis.xlsx\",\n",
       " \"(데이터)'19년 하반기~ '22년 상반기 공모전 raw데이터_2021_08_01_kopis.xlsx\",\n",
       " \"(데이터)'19년 하반기~ '22년 상반기 공모전 raw데이터_2021_08_16_kopis.xlsx\",\n",
       " \"(데이터)'19년 하반기~ '22년 상반기 공모전 raw데이터_2021_09_01_kopis.xlsx\",\n",
       " \"(데이터)'19년 하반기~ '22년 상반기 공모전 raw데이터_2021_09_16_kopis.xlsx\",\n",
       " \"(데이터)'19년 하반기~ '22년 상반기 공모전 raw데이터_2021_10_01_kopis.xlsx\",\n",
       " \"(데이터)'19년 하반기~ '22년 상반기 공모전 raw데이터_2021_10_11_kopis.xlsx\",\n",
       " \"(데이터)'19년 하반기~ '22년 상반기 공모전 raw데이터_2021_10_21_kopis.xlsx\",\n",
       " \"(데이터)'19년 하반기~ '22년 상반기 공모전 raw데이터_2021_11_01_kopis.xlsx\",\n",
       " \"(데이터)'19년 하반기~ '22년 상반기 공모전 raw데이터_2021_11_11_kopis.xlsx\",\n",
       " \"(데이터)'19년 하반기~ '22년 상반기 공모전 raw데이터_2021_11_21_kopis.xlsx\",\n",
       " \"(데이터)'19년 하반기~ '22년 상반기 공모전 raw데이터_2021_12_01_kopis.xlsx\",\n",
       " \"(데이터)'19년 하반기~ '22년 상반기 공모전 raw데이터_2021_12_11_kopis.xlsx\",\n",
       " \"(데이터)'19년 하반기~ '22년 상반기 공모전 raw데이터_2021_12_21_kopis.xlsx\",\n",
       " \"(데이터)'19년 하반기~ '22년 상반기 공모전 raw데이터_2021_12_26_kopis.xlsx\"]"
      ]
     },
     "execution_count": 38,
     "metadata": {},
     "output_type": "execute_result"
    }
   ],
   "source": [
    "os.listdir(\"2021\")"
   ]
  },
  {
   "cell_type": "code",
   "execution_count": 39,
   "id": "b5169dcf",
   "metadata": {},
   "outputs": [],
   "source": [
    "merged_df_2021 = pd.DataFrame()\n",
    "\n",
    "for file in os.listdir(\"2021\"):\n",
    "    if \"kopis.xlsx\" in file:\n",
    "        df = pd.read_excel(\"2021/\" + file) \n",
    "        merged_df_2021 = pd.concat([merged_df_2021, df], axis=0, ignore_index=True)"
   ]
  },
  {
   "cell_type": "code",
   "execution_count": 40,
   "id": "6a501a90",
   "metadata": {},
   "outputs": [],
   "source": [
    "dup_merged_df_2021 = merged_df_2021.drop_duplicates(['공연코드'])"
   ]
  },
  {
   "cell_type": "code",
   "execution_count": 41,
   "id": "2eeb8fb3",
   "metadata": {},
   "outputs": [],
   "source": [
    "# 관객수 파생변수 생성\n",
    "df1 = merged_df_2021[['공연코드','예매/취소구분']].copy()\n",
    "df2 = pd.DataFrame()\n",
    "df3 = pd.DataFrame()\n",
    "for i in df1['공연코드'].unique().tolist():\n",
    "    df2 = df1[df1['공연코드']==i].copy()\n",
    "        \n",
    "    cnt1 = len(df2[df2['예매/취소구분']==1]) # 예매/취소구분이 1인 개수\n",
    "    cnt2 = len(df2[df2['예매/취소구분']==2]) # 예매/취소구분이 2인 개수\n",
    "    df2['관객수'] = cnt1 - cnt2 # 1에서 2를 뺀 개수를 관객수로 명명\n",
    "    df2 = df2.drop('예매/취소구분', axis=1)\n",
    "        \n",
    "    df3 = pd.concat([df3, df2], axis = 0).copy()\n",
    "    df3 = df3.drop_duplicates()\n",
    "    \n",
    "df3 = df3.groupby('공연코드')['관객수'].sum()"
   ]
  },
  {
   "cell_type": "code",
   "execution_count": 42,
   "id": "b2bcf9f3",
   "metadata": {},
   "outputs": [],
   "source": [
    "df3 = pd.DataFrame(data=df3)\n",
    "df4 = pd.merge(dup_merged_df_2021, df3, left_on='공연코드', right_on='공연코드')"
   ]
  },
  {
   "cell_type": "code",
   "execution_count": 43,
   "id": "9347a917",
   "metadata": {},
   "outputs": [],
   "source": [
    "final_2021 = df4.set_index('공연코드')"
   ]
  },
  {
   "cell_type": "code",
   "execution_count": 44,
   "id": "2c2b5e35",
   "metadata": {},
   "outputs": [],
   "source": [
    "# 극작가명 컬럼에 각색이라는 키워드여부에 따라 각색여부 판단\n",
    "row_indexes=final_2021.loc[final_2021['극작가명'].str.contains('각색', na=False)].index\n",
    "final_2021.loc[row_indexes,'각색여부']=1\n",
    "row_indexes=final_2021.loc[~final_2021['극작가명'].str.contains('각색', na=False)].index\n",
    "final_2021.loc[row_indexes,'각색여부']=0"
   ]
  },
  {
   "cell_type": "code",
   "execution_count": 45,
   "id": "674f2ccd",
   "metadata": {},
   "outputs": [],
   "source": [
    "# 불필요한 컬럼 제거\n",
    "final_2021.drop(['시설특성','공연일시','예매/취소구분','장당금액','공연시작일자','공연종료일자','장르명','원작자명','극작가명', \n",
    "                 '수상실적','관람연령','축제 여부','내한공연 여부','오픈런 여부','단독판매여부'], axis=1, inplace = True)\n",
    "# 불필요한 용량 제거\n",
    "final_2021['각색여부'] = final_2021[\"각색여부\"].astype('int8')\n",
    "final_2021['관객수'] = final_2021[\"관객수\"].astype('int32')"
   ]
  },
  {
   "cell_type": "code",
   "execution_count": 46,
   "id": "c6c9fcde",
   "metadata": {},
   "outputs": [],
   "source": [
    "# EDA 및 전처리가 된 상태로 파일저장\n",
    "final_2021.to_excel(\"final_2021.xlsx\")"
   ]
  },
  {
   "cell_type": "markdown",
   "id": "c0ed8ab4",
   "metadata": {},
   "source": [
    "## 2021년도 각색 여부에 따른 비율"
   ]
  },
  {
   "cell_type": "code",
   "execution_count": 47,
   "id": "aeb609b3",
   "metadata": {},
   "outputs": [],
   "source": [
    "final_2021 = pd.read_excel(\"final_2021.xlsx\")\n",
    "# 관객수 데이터 중 음수 제거\n",
    "final_2021 = final_2021[final_2021['관객수'] > 0]"
   ]
  },
  {
   "cell_type": "code",
   "execution_count": 48,
   "id": "fba3e5e7",
   "metadata": {},
   "outputs": [
    {
     "data": {
      "image/png": "[encoded data removed]",
      "text/plain": [
       "<Figure size 360x360 with 1 Axes>"
      ]
     },
     "metadata": {},
     "output_type": "display_data"
    }
   ],
   "source": [
    "%matplotlib inline\n",
    "plt.rcParams['figure.figsize'] = (5, 5)\n",
    "plt.rcParams['font.size'] = 15\n",
    "plt.rcParams['font.family'] = 'Malgun Gothic'\n",
    "\n",
    "ratio = [final_2021.loc[final_2021['각색여부']==1]['공연코드'].count(), \n",
    "         final_2021.loc[final_2021['각색여부']==0]['공연코드'].count()]\n",
    "labels = ['각색 연극', '비각색 연극']\n",
    "explode = [0, 0.2]\n",
    "colors = ['#F08080', '#FFF8DC']\n",
    "title_font = {'fontsize': 15, 'fontweight': 'bold'}\n",
    "\n",
    "plt.title('2021년도 각색 여부에 따른 연극 비율', fontdict=title_font)\n",
    "plt.pie(ratio, labels=labels, autopct='%.1f%%', explode=explode, colors=colors, shadow=True)\n",
    "plt.show()"
   ]
  },
  {
   "cell_type": "markdown",
   "id": "e84ea2da",
   "metadata": {},
   "source": [
    "## 2021년도 독립표본 t 검정"
   ]
  },
  {
   "cell_type": "code",
   "execution_count": 49,
   "id": "8f7da5c3",
   "metadata": {},
   "outputs": [],
   "source": [
    "final_2021 = pd.read_excel(\"final_2021.xlsx\")\n",
    "# 관객수 데이터 중 음수 제거\n",
    "final_2021 = final_2021[final_2021['관객수'] > 0]"
   ]
  },
  {
   "cell_type": "code",
   "execution_count": 50,
   "id": "fdd41554",
   "metadata": {},
   "outputs": [],
   "source": [
    "dramatic2021 = final_2021.loc[final_2021['각색여부']==1]\n",
    "nondramatic2021 = final_2021.loc[final_2021['각색여부']==0]"
   ]
  },
  {
   "cell_type": "code",
   "execution_count": 51,
   "id": "f8883398",
   "metadata": {},
   "outputs": [],
   "source": [
    "dramatic2021_aud = dramatic2021['관객수'].values\n",
    "nondramatic2021_aud = nondramatic2021['관객수'].values"
   ]
  },
  {
   "cell_type": "code",
   "execution_count": 52,
   "id": "7ba22fe2",
   "metadata": {},
   "outputs": [],
   "source": [
    "group_dramatic2021_aud = dramatic2021_aud[dramatic2021_aud > 0]\n",
    "group_nondramatic2021_aud = nondramatic2021_aud[nondramatic2021_aud > 0]"
   ]
  },
  {
   "cell_type": "code",
   "execution_count": 53,
   "id": "26091a5d",
   "metadata": {},
   "outputs": [
    {
     "name": "stdout",
     "output_type": "stream",
     "text": [
      "원작을 각색한 연극 : KstestResult(statistic=0.9689511128650988, pvalue=0.0)\n",
      "원작을 각색하지 않은 연극 : KstestResult(statistic=0.960720942431986, pvalue=0.0)\n",
      "등분산성 검정 : LeveneResult(statistic=1.9435288282345646, pvalue=0.16344611443868995)\n",
      "독립표본 T검정 : Ttest_indResult(statistic=1.0029341615382636, pvalue=0.31680165042437997)\n"
     ]
    }
   ],
   "source": [
    "# 정규성 검정\n",
    "print('원작을 각색한 연극 :',kstest(group_dramatic2021_aud, 'norm'))\n",
    "print('원작을 각색하지 않은 연극 :',kstest(group_nondramatic2021_aud, 'norm'))\n",
    "# 등분산성 검정\n",
    "print('등분산성 검정 :',levene(group_dramatic2021_aud, group_nondramatic2021_aud))\n",
    "# ttest\n",
    "print('독립표본 T검정 :',ttest_ind(group_dramatic2021_aud, group_nondramatic2021_aud, equal_var=False))"
   ]
  },
  {
   "cell_type": "markdown",
   "id": "470c51ec",
   "metadata": {},
   "source": [
    "## 2021년도 각색 여부에 따른 평균 관객수 비교"
   ]
  },
  {
   "cell_type": "code",
   "execution_count": 54,
   "id": "e408bc8c",
   "metadata": {},
   "outputs": [],
   "source": [
    "final_2021 = pd.read_excel(\"final_2021.xlsx\")\n",
    "# 관객수 데이터 중 음수 제거\n",
    "final_2021 = final_2021[final_2021['관객수'] > 0]"
   ]
  },
  {
   "cell_type": "code",
   "execution_count": 55,
   "id": "9550df9e",
   "metadata": {},
   "outputs": [
    {
     "data": {
      "text/plain": [
       "Text(0, 0.5, '평균 관객수(명)')"
      ]
     },
     "execution_count": 55,
     "metadata": {},
     "output_type": "execute_result"
    },
    {
     "data": {
      "image/png": "[encoded data removed]",
      "text/plain": [
       "<Figure size 360x360 with 1 Axes>"
      ]
     },
     "metadata": {},
     "output_type": "display_data"
    }
   ],
   "source": [
    "%matplotlib inline\n",
    "\n",
    "plt.rcParams[\"figure.figsize\"]=(5, 5)\n",
    "sns.set_style('whitegrid')\n",
    "sns.set(font=\"Malgun Gothic\", \n",
    "        rc={\"axes.unicode_minus\":False},\n",
    "        style='darkgrid')\n",
    "g=sns.barplot(x='각색여부', y='관객수', palette='Set3',data=final_2021, ci=None)\n",
    "g.set_xticklabels(['비각색','각색'], fontsize = 15)\n",
    "g.set_title('2021년도 각색여부에 따른 평균 연극관객수',fontsize = 15, pad=30)\n",
    "plt.xlabel('', fontsize = 15)\n",
    "plt.ylabel('평균 관객수(명)', fontsize = 15)"
   ]
  },
  {
   "cell_type": "markdown",
   "id": "54f65289",
   "metadata": {},
   "source": [
    "# 2022"
   ]
  },
  {
   "cell_type": "markdown",
   "id": "ef57d5af",
   "metadata": {},
   "source": [
    "## 2022년도 preprocessing"
   ]
  },
  {
   "cell_type": "code",
   "execution_count": 56,
   "id": "62fcc83b",
   "metadata": {},
   "outputs": [
    {
     "data": {
      "text/plain": [
       "[\"(데이터)'19년 하반기~ '22년 상반기 공모전 raw데이터_2022_01_01_kopis.xlsx\",\n",
       " \"(데이터)'19년 하반기~ '22년 상반기 공모전 raw데이터_2022_01_11_kopis.xlsx\",\n",
       " \"(데이터)'19년 하반기~ '22년 상반기 공모전 raw데이터_2022_01_21_kopis.xlsx\",\n",
       " \"(데이터)'19년 하반기~ '22년 상반기 공모전 raw데이터_2022_02_01_kopis.xlsx\",\n",
       " \"(데이터)'19년 하반기~ '22년 상반기 공모전 raw데이터_2022_02_11_kopis.xlsx\",\n",
       " \"(데이터)'19년 하반기~ '22년 상반기 공모전 raw데이터_2022_02_21_kopis.xlsx\",\n",
       " \"(데이터)'19년 하반기~ '22년 상반기 공모전 raw데이터_2022_03_01_kopis.xlsx\",\n",
       " \"(데이터)'19년 하반기~ '22년 상반기 공모전 raw데이터_2022_03_11_kopis.xlsx\",\n",
       " \"(데이터)'19년 하반기~ '22년 상반기 공모전 raw데이터_2022_03_21_kopis.xlsx\",\n",
       " \"(데이터)'19년 하반기~ '22년 상반기 공모전 raw데이터_2022_04_01_kopis.xlsx\",\n",
       " \"(데이터)'19년 하반기~ '22년 상반기 공모전 raw데이터_2022_04_11_kopis.xlsx\",\n",
       " \"(데이터)'19년 하반기~ '22년 상반기 공모전 raw데이터_2022_04_21_kopis.xlsx\",\n",
       " \"(데이터)'19년 하반기~ '22년 상반기 공모전 raw데이터_2022_05_01_kopis.xlsx\",\n",
       " \"(데이터)'19년 하반기~ '22년 상반기 공모전 raw데이터_2022_05_11_kopis.xlsx\",\n",
       " \"(데이터)'19년 하반기~ '22년 상반기 공모전 raw데이터_2022_05_21_kopis.xlsx\",\n",
       " \"(데이터)'19년 하반기~ '22년 상반기 공모전 raw데이터_2022_06_01_kopis.xlsx\",\n",
       " \"(데이터)'19년 하반기~ '22년 상반기 공모전 raw데이터_2022_06_11_kopis.xlsx\",\n",
       " \"(데이터)'19년 하반기~ '22년 상반기 공모전 raw데이터_2022_06_21_kopis.xlsx\"]"
      ]
     },
     "execution_count": 56,
     "metadata": {},
     "output_type": "execute_result"
    }
   ],
   "source": [
    "os.listdir(\"2022\")"
   ]
  },
  {
   "cell_type": "code",
   "execution_count": 57,
   "id": "a1edc029",
   "metadata": {},
   "outputs": [],
   "source": [
    "merged_df_2022 = pd.DataFrame()\n",
    "\n",
    "for file in os.listdir(\"2022\"):\n",
    "    if \"kopis.xlsx\" in file:\n",
    "        df = pd.read_excel(\"2022/\" + file) \n",
    "        merged_df_2022 = pd.concat([merged_df_2022, df], axis=0, ignore_index=True)"
   ]
  },
  {
   "cell_type": "code",
   "execution_count": 58,
   "id": "c81eac66",
   "metadata": {},
   "outputs": [],
   "source": [
    "dup_merged_df_2022 = merged_df_2022.drop_duplicates(['공연코드'])"
   ]
  },
  {
   "cell_type": "code",
   "execution_count": 59,
   "id": "8d913806",
   "metadata": {},
   "outputs": [],
   "source": [
    "# 관객수 파생변수 생성\n",
    "df1 = merged_df_2022[['공연코드','예매/취소구분']].copy()\n",
    "df2 = pd.DataFrame()\n",
    "df3 = pd.DataFrame()\n",
    "for i in df1['공연코드'].unique().tolist():\n",
    "    df2 = df1[df1['공연코드']==i].copy()\n",
    "        \n",
    "    cnt1 = len(df2[df2['예매/취소구분']==1]) # 예매/취소구분이 1인 개수\n",
    "    cnt2 = len(df2[df2['예매/취소구분']==2]) # 예매/취소구분이 2인 개수\n",
    "    df2['관객수'] = cnt1 - cnt2 # 1에서 2를 뺀 개수를 관객수로 명명\n",
    "    df2 = df2.drop('예매/취소구분', axis=1)\n",
    "        \n",
    "    df3 = pd.concat([df3, df2], axis = 0).copy()\n",
    "    df3 = df3.drop_duplicates()\n",
    "    \n",
    "df3 = df3.groupby('공연코드')['관객수'].sum()"
   ]
  },
  {
   "cell_type": "code",
   "execution_count": 60,
   "id": "d5927ff9",
   "metadata": {},
   "outputs": [],
   "source": [
    "df3 = pd.DataFrame(data=df3)\n",
    "df4 = pd.merge(dup_merged_df_2022, df3, left_on='공연코드', right_on='공연코드')"
   ]
  },
  {
   "cell_type": "code",
   "execution_count": 61,
   "id": "5b42b2fb",
   "metadata": {},
   "outputs": [],
   "source": [
    "final_2022 = df4.set_index('공연코드')"
   ]
  },
  {
   "cell_type": "code",
   "execution_count": 62,
   "id": "8749aa24",
   "metadata": {},
   "outputs": [],
   "source": [
    "# 극작가명 컬럼에 각색이라는 키워드여부에 따라 각색여부 판단\n",
    "row_indexes=final_2022.loc[final_2022['극작가명'].str.contains('각색', na=False)].index\n",
    "final_2022.loc[row_indexes,'각색여부']=1\n",
    "row_indexes=final_2022.loc[~final_2022['극작가명'].str.contains('각색', na=False)].index\n",
    "final_2022.loc[row_indexes,'각색여부']=0"
   ]
  },
  {
   "cell_type": "code",
   "execution_count": 63,
   "id": "b0f15424",
   "metadata": {},
   "outputs": [],
   "source": [
    "# 불필요한 컬럼 제거\n",
    "final_2022.drop(['시설특성','공연일시','예매/취소구분','장당금액','공연시작일자','공연종료일자','장르명','원작자명','극작가명', \n",
    "                 '수상실적','관람연령','축제 여부','내한공연 여부','오픈런 여부','단독판매여부'], axis=1, inplace = True)\n",
    "# 불필요한 용량 제거\n",
    "final_2022['각색여부'] = final_2022[\"각색여부\"].astype('int8')\n",
    "final_2022['관객수'] = final_2022[\"관객수\"].astype('int32')"
   ]
  },
  {
   "cell_type": "code",
   "execution_count": 64,
   "id": "66d2de7d",
   "metadata": {},
   "outputs": [],
   "source": [
    "# EDA 및 전처리가 된 상태로 파일저장\n",
    "final_2022.to_excel(\"final_2022.xlsx\")"
   ]
  },
  {
   "cell_type": "markdown",
   "id": "af60101f",
   "metadata": {},
   "source": [
    "## 2022년도 각색 여부에 따른 비율"
   ]
  },
  {
   "cell_type": "code",
   "execution_count": 65,
   "id": "d85f7047",
   "metadata": {},
   "outputs": [],
   "source": [
    "final_2022 = pd.read_excel(\"final_2022.xlsx\")\n",
    "# 관객수 데이터 중 음수 제거\n",
    "final_2022 = final_2022[final_2022['관객수'] > 0]"
   ]
  },
  {
   "cell_type": "code",
   "execution_count": 66,
   "id": "477a4617",
   "metadata": {},
   "outputs": [
    {
     "data": {
      "image/png": "[encoded data removed]",
      "text/plain": [
       "<Figure size 360x360 with 1 Axes>"
      ]
     },
     "metadata": {},
     "output_type": "display_data"
    }
   ],
   "source": [
    "%matplotlib inline\n",
    "plt.rcParams['figure.figsize'] = (5, 5)\n",
    "plt.rcParams['font.size'] = 15\n",
    "plt.rcParams['font.family'] = 'Malgun Gothic'\n",
    "\n",
    "ratio = [final_2022.loc[final_2022['각색여부']==1]['공연코드'].count(), \n",
    "         final_2022.loc[final_2022['각색여부']==0]['공연코드'].count()]\n",
    "labels = ['각색 연극', '비각색 연극']\n",
    "explode = [0, 0.2]\n",
    "colors = ['#F08080', '#FFF8DC']\n",
    "title_font = {'fontsize': 15, 'fontweight': 'bold'}\n",
    "\n",
    "plt.title('2022년도 각색 여부에 따른 연극 비율', fontdict=title_font)\n",
    "plt.pie(ratio, labels=labels, autopct='%.1f%%', explode=explode, colors=colors, shadow=True)\n",
    "plt.show()"
   ]
  },
  {
   "cell_type": "markdown",
   "id": "fc98e310",
   "metadata": {},
   "source": [
    "## 2022년도 독립표본 t 검정"
   ]
  },
  {
   "cell_type": "code",
   "execution_count": 67,
   "id": "7d5805cf",
   "metadata": {},
   "outputs": [],
   "source": [
    "final_2022 = pd.read_excel(\"final_2022.xlsx\")\n",
    "# 관객수 데이터 중 음수 제거\n",
    "final_2022 = final_2022[final_2022['관객수'] > 0]"
   ]
  },
  {
   "cell_type": "code",
   "execution_count": 68,
   "id": "e7e1577a",
   "metadata": {},
   "outputs": [],
   "source": [
    "dramatic2022 = final_2022.loc[final_2022['각색여부']==1]\n",
    "nondramatic2022 = final_2022.loc[final_2022['각색여부']==0]"
   ]
  },
  {
   "cell_type": "code",
   "execution_count": 69,
   "id": "69f6499d",
   "metadata": {},
   "outputs": [],
   "source": [
    "dramatic2022_aud = dramatic2022['관객수'].values\n",
    "nondramatic2022_aud = nondramatic2022['관객수'].values"
   ]
  },
  {
   "cell_type": "code",
   "execution_count": 70,
   "id": "94b2c670",
   "metadata": {},
   "outputs": [],
   "source": [
    "group_dramatic2022_aud = dramatic2022_aud[dramatic2022_aud > 0]\n",
    "group_nondramatic2022_aud = nondramatic2022_aud[nondramatic2022_aud > 0]"
   ]
  },
  {
   "cell_type": "code",
   "execution_count": 71,
   "id": "95b21160",
   "metadata": {},
   "outputs": [
    {
     "name": "stdout",
     "output_type": "stream",
     "text": [
      "원작을 각색한 연극 : KstestResult(statistic=0.9986501019683699, pvalue=1.3062010048573505e-238)\n",
      "원작을 각색하지 않은 연극 : KstestResult(statistic=0.9714633407390555, pvalue=0.0)\n",
      "등분산성 검정 : LeveneResult(statistic=0.9130735438782299, pvalue=0.33954934525235714)\n",
      "독립표본 T검정 : Ttest_indResult(statistic=0.6657920853454411, pvalue=0.5072760427150905)\n"
     ]
    }
   ],
   "source": [
    "# 정규성 검정\n",
    "print('원작을 각색한 연극 :',kstest(group_dramatic2022_aud, 'norm'))\n",
    "print('원작을 각색하지 않은 연극 :',kstest(group_nondramatic2022_aud, 'norm'))\n",
    "# 등분산성 검정\n",
    "print('등분산성 검정 :',levene(group_dramatic2022_aud, group_nondramatic2022_aud))\n",
    "# ttest\n",
    "print('독립표본 T검정 :',ttest_ind(group_dramatic2022_aud, group_nondramatic2022_aud, equal_var=False))"
   ]
  },
  {
   "cell_type": "markdown",
   "id": "299d1190",
   "metadata": {},
   "source": [
    "## 2022년도 각색 여부에 따른 평균 관객수 비교"
   ]
  },
  {
   "cell_type": "code",
   "execution_count": 72,
   "id": "b2f26664",
   "metadata": {},
   "outputs": [],
   "source": [
    "final_2022 = pd.read_excel(\"final_2022.xlsx\")\n",
    "# 관객수 데이터 중 음수 제거\n",
    "final_2022 = final_2022[final_2022['관객수'] > 0]"
   ]
  },
  {
   "cell_type": "code",
   "execution_count": 73,
   "id": "f4191db4",
   "metadata": {},
   "outputs": [
    {
     "data": {
      "text/plain": [
       "Text(0, 0.5, '평균 관객수(명)')"
      ]
     },
     "execution_count": 73,
     "metadata": {},
     "output_type": "execute_result"
    },
    {
     "data": {
      "image/png": "[encoded data removed]",
      "text/plain": [
       "<Figure size 360x360 with 1 Axes>"
      ]
     },
     "metadata": {},
     "output_type": "display_data"
    }
   ],
   "source": [
    "%matplotlib inline\n",
    "\n",
    "plt.rcParams[\"figure.figsize\"]=(5, 5)\n",
    "sns.set_style('whitegrid')\n",
    "sns.set(font=\"Malgun Gothic\", \n",
    "        rc={\"axes.unicode_minus\":False},\n",
    "        style='darkgrid')\n",
    "g=sns.barplot(x='각색여부', y='관객수', palette='Set3',data=final_2022, ci=None)\n",
    "g.set_xticklabels(['비각색','각색'], fontsize = 15)\n",
    "g.set_title('2022년도 각색여부에 따른 평균 연극관객수',fontsize = 15, pad=30)\n",
    "plt.xlabel('', fontsize = 15)\n",
    "plt.ylabel('평균 관객수(명)', fontsize = 15)"
   ]
  },
  {
   "cell_type": "markdown",
   "id": "fbb6457d",
   "metadata": {},
   "source": [
    "# 2019 ~ 2022 파일 병합"
   ]
  },
  {
   "cell_type": "code",
   "execution_count": 74,
   "id": "6c556f72",
   "metadata": {},
   "outputs": [],
   "source": [
    "file2019 = pd.read_excel(\"final_2019.xlsx\")\n",
    "file2020 = pd.read_excel(\"final_2020.xlsx\")\n",
    "file2021 = pd.read_excel(\"final_2021.xlsx\")\n",
    "file2022 = pd.read_excel(\"final_2022.xlsx\")\n",
    "result = pd.concat([file2019, file2020, file2021, file2022])\n",
    "# 불필요한 용량 제거\n",
    "result['각색여부'] = result['각색여부'].astype('int8')\n",
    "result['관객수'] = result['관객수'].astype('int32')"
   ]
  },
  {
   "cell_type": "code",
   "execution_count": 75,
   "id": "01c5c249",
   "metadata": {
    "scrolled": true
   },
   "outputs": [],
   "source": [
    "result['최종 관객수'] = result.groupby(\"공연코드\")['관객수'].transform('sum')"
   ]
  },
  {
   "cell_type": "code",
   "execution_count": 76,
   "id": "a27a4904",
   "metadata": {},
   "outputs": [],
   "source": [
    "result = result.reset_index(drop=True)\n",
    "result = result.drop_duplicates('공연코드')\n",
    "result = result.set_index('공연코드')\n",
    "# 최종 관객수 데이터 중 음수 제거\n",
    "result = result.loc[result[\"최종 관객수\"] > 0]"
   ]
  },
  {
   "cell_type": "code",
   "execution_count": 77,
   "id": "c000abd4",
   "metadata": {},
   "outputs": [],
   "source": [
    "result.to_excel(\"result.xlsx\")"
   ]
  },
  {
   "cell_type": "markdown",
   "id": "57c23bdf",
   "metadata": {},
   "source": [
    "## 2019 ~ 2022 파일 각색 여부에 따른 비율"
   ]
  },
  {
   "cell_type": "code",
   "execution_count": 78,
   "id": "75a4e27d",
   "metadata": {},
   "outputs": [
    {
     "data": {
      "image/png": "[encoded data removed]",
      "text/plain": [
       "<Figure size 360x360 with 1 Axes>"
      ]
     },
     "metadata": {},
     "output_type": "display_data"
    }
   ],
   "source": [
    "result = pd.read_excel(\"result.xlsx\")\n",
    "\n",
    "%matplotlib inline\n",
    "plt.rcParams['figure.figsize'] = (5, 5)\n",
    "plt.rcParams['font.size'] = 15\n",
    "plt.rcParams['font.family'] = 'Malgun Gothic'\n",
    "\n",
    "ratio = [result.loc[result['각색여부']==1]['공연코드'].count(), \n",
    "         result.loc[result['각색여부']==0]['공연코드'].count()]\n",
    "labels = ['각색 연극', '비각색 연극']\n",
    "explode = [0, 0.2]\n",
    "colors = ['#F08080', '#FFF8DC']\n",
    "title_font = {'fontsize': 15, 'fontweight': 'bold'}\n",
    "\n",
    "plt.title('2019년 ~ 2022년도 각색 여부에 따른 연극 비율', fontdict=title_font)\n",
    "plt.pie(ratio, labels=labels, autopct='%.1f%%', explode=explode, colors=colors, shadow=True)\n",
    "plt.show()"
   ]
  },
  {
   "cell_type": "markdown",
   "id": "023e3020",
   "metadata": {},
   "source": [
    "## 2019 ~ 2022파일 독립표본 t 검정"
   ]
  },
  {
   "cell_type": "code",
   "execution_count": 79,
   "id": "0732c214",
   "metadata": {},
   "outputs": [],
   "source": [
    "result = pd.read_excel(\"result.xlsx\")"
   ]
  },
  {
   "cell_type": "code",
   "execution_count": 80,
   "id": "d3fba256",
   "metadata": {},
   "outputs": [],
   "source": [
    "result_dramatic = result.loc[result['각색여부']==1]\n",
    "result_nondramatic = result.loc[result['각색여부']==0]"
   ]
  },
  {
   "cell_type": "code",
   "execution_count": 81,
   "id": "ebf4ade0",
   "metadata": {},
   "outputs": [],
   "source": [
    "result_dramatic_aud = result_dramatic['최종 관객수'].values\n",
    "result_nondramatic_aud = result_nondramatic['최종 관객수'].values"
   ]
  },
  {
   "cell_type": "code",
   "execution_count": 82,
   "id": "7bccd7bf",
   "metadata": {},
   "outputs": [
    {
     "name": "stdout",
     "output_type": "stream",
     "text": [
      "원작을 각색한 연극 : KstestResult(statistic=0.9583819435235189, pvalue=0.0)\n",
      "원작을 각색하지 않은 연극 : KstestResult(statistic=0.9579812015311289, pvalue=0.0)\n",
      "등분산성 검정 : LeveneResult(statistic=6.592889791738548, pvalue=0.010266660946426845)\n",
      "독립표본 T검정 : Ttest_indResult(statistic=1.2646174665795302, pvalue=0.20649984355124035)\n"
     ]
    }
   ],
   "source": [
    "# 정규성 검정\n",
    "print('원작을 각색한 연극 :',kstest(result_dramatic_aud, 'norm'))\n",
    "print('원작을 각색하지 않은 연극 :',kstest(result_nondramatic_aud, 'norm'))\n",
    "# 등분산성 검정\n",
    "print('등분산성 검정 :',levene(result_dramatic_aud, result_nondramatic_aud))\n",
    "# ttest\n",
    "print('독립표본 T검정 :',ttest_ind(result_dramatic_aud, result_nondramatic_aud, equal_var=False))"
   ]
  },
  {
   "cell_type": "markdown",
   "id": "40ecdbeb",
   "metadata": {},
   "source": [
    "## 2019~ 2022파일 각색 여부에 따른 평균 관객수 비교"
   ]
  },
  {
   "cell_type": "code",
   "execution_count": 83,
   "id": "7bc2e402",
   "metadata": {},
   "outputs": [
    {
     "data": {
      "text/plain": [
       "Text(0, 0.5, '평균 관객수(명)')"
      ]
     },
     "execution_count": 83,
     "metadata": {},
     "output_type": "execute_result"
    },
    {
     "data": {
      "image/png": "[encoded data removed]",
      "text/plain": [
       "<Figure size 360x360 with 1 Axes>"
      ]
     },
     "metadata": {},
     "output_type": "display_data"
    }
   ],
   "source": [
    "result = pd.read_excel(\"result.xlsx\")\n",
    "\n",
    "%matplotlib inline\n",
    "\n",
    "plt.rcParams[\"figure.figsize\"]=(5, 5)\n",
    "sns.set_style('whitegrid')\n",
    "sns.set(font=\"Malgun Gothic\", \n",
    "        rc={\"axes.unicode_minus\":False},\n",
    "        style='darkgrid')\n",
    "g=sns.barplot(x='각색여부', y='관객수', palette='Set3',data=result, ci=None)\n",
    "g.set_xticklabels(['비각색','각색'], fontsize = 15)\n",
    "g.set_title('2019년 ~ 2022년도 각색여부에 따른 평균 연극관객수',fontsize = 15, pad=30)\n",
    "plt.xlabel('', fontsize = 15)\n",
    "plt.ylabel('평균 관객수(명)', fontsize = 15)"
   ]
  }
 ],
 "metadata": {
  "kernelspec": {
   "display_name": "Python 3 (ipykernel)",
   "language": "python",
   "name": "python3"
  },
  "language_info": {
   "codemirror_mode": {
    "name": "ipython",
    "version": 3
   },
   "file_extension": ".py",
   "mimetype": "text/x-python",
   "name": "python",
   "nbconvert_exporter": "python",
   "pygments_lexer": "ipython3",
   "version": "3.9.12"
  }
 },
 "nbformat": 4,
 "nbformat_minor": 5
}
