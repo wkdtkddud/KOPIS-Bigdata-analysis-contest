{
 "cells": [
  {
   "cell_type": "markdown",
   "id": "b0c87cc3",
   "metadata": {},
   "source": [
    "# 가설2_최종본"
   ]
  },
  {
   "cell_type": "code",
   "execution_count": 1,
   "id": "9654e961",
   "metadata": {},
   "outputs": [],
   "source": [
    "import pandas as pd\n",
    "import seaborn as sns\n",
    "import scipy.stats as stats\n",
    "from scipy.stats import *\n",
    "from matplotlib import pyplot as plt\n",
    "import numpy as np\n",
    "import warnings\n",
    "warnings.filterwarnings('ignore')"
   ]
  },
  {
   "cell_type": "markdown",
   "id": "682bf6e7",
   "metadata": {},
   "source": [
    "### 원작 데이터 파일 불러오기\n",
    "\n",
    "원작데이터는 kopis 데이터에서 원작자명, 극작가명(각색) 컬럼을 활용하여 만들어졌습니다.\n",
    "\n",
    "대출수는 도서관 정보나루 사이트에서 가져왔습니다."
   ]
  },
  {
   "cell_type": "code",
   "execution_count": 3,
   "id": "7439b26c",
   "metadata": {},
   "outputs": [],
   "source": [
    "original = pd.read_excel(\"C:/Users/82102/Desktop/kopis 공모전/원작 정리.xlsx\")"
   ]
  },
  {
   "cell_type": "code",
   "execution_count": 4,
   "id": "04acd7af",
   "metadata": {},
   "outputs": [
    {
     "name": "stdout",
     "output_type": "stream",
     "text": [
      "<class 'pandas.core.frame.DataFrame'>\n",
      "RangeIndex: 236 entries, 0 to 235\n",
      "Data columns (total 11 columns):\n",
      " #   Column     Non-Null Count  Dtype  \n",
      "---  ------     --------------  -----  \n",
      " 0   원작         236 non-null    object \n",
      " 1   최종 일일 관객수  236 non-null    float64\n",
      " 2   최종 관객수     236 non-null    float64\n",
      " 3   원작 형태      236 non-null    object \n",
      " 4   원작 세부장르    236 non-null    object \n",
      " 5   원작자명       236 non-null    object \n",
      " 6   극작가명       235 non-null    object \n",
      " 7   대출수        219 non-null    float64\n",
      " 8   국내/외국      236 non-null    object \n",
      " 9   총 공연기간     236 non-null    int64  \n",
      " 10  도서 연도      219 non-null    object \n",
      "dtypes: float64(3), int64(1), object(7)\n",
      "memory usage: 20.4+ KB\n"
     ]
    }
   ],
   "source": [
    "original.info()"
   ]
  },
  {
   "cell_type": "code",
   "execution_count": 5,
   "id": "1915c82d",
   "metadata": {},
   "outputs": [],
   "source": [
    "original_book = original.loc[original[\"원작 형태\"]==\"도서\"]"
   ]
  },
  {
   "cell_type": "markdown",
   "id": "b6ac1553",
   "metadata": {},
   "source": [
    "## 대출수와 최종관객수의 상관 분석"
   ]
  },
  {
   "cell_type": "code",
   "execution_count": 6,
   "id": "3e1bf0ed",
   "metadata": {},
   "outputs": [
    {
     "name": "stdout",
     "output_type": "stream",
     "text": [
      "상관분석 :  (-0.010236851861443356, 0.8802687290611825)\n"
     ]
    }
   ],
   "source": [
    "print(\"상관분석 : \", stats.pearsonr(original_book[\"최종 관객수\"], original_book[\"대출수\"]))"
   ]
  },
  {
   "cell_type": "markdown",
   "id": "52895450",
   "metadata": {},
   "source": [
    "## 대출수와 최종관객수의 회귀 분석"
   ]
  },
  {
   "cell_type": "code",
   "execution_count": 7,
   "id": "15e613a6",
   "metadata": {},
   "outputs": [
    {
     "data": {
      "text/html": [
       "<table class=\"simpletable\">\n",
       "<caption>OLS Regression Results</caption>\n",
       "<tr>\n",
       "  <th>Dep. Variable:</th>         <td>최종 관객수</td>      <th>  R-squared:         </th> <td>   0.000</td>\n",
       "</tr>\n",
       "<tr>\n",
       "  <th>Model:</th>                   <td>OLS</td>       <th>  Adj. R-squared:    </th> <td>  -0.005</td>\n",
       "</tr>\n",
       "<tr>\n",
       "  <th>Method:</th>             <td>Least Squares</td>  <th>  F-statistic:       </th> <td> 0.02274</td>\n",
       "</tr>\n",
       "<tr>\n",
       "  <th>Date:</th>             <td>Sun, 09 Oct 2022</td> <th>  Prob (F-statistic):</th>  <td> 0.880</td> \n",
       "</tr>\n",
       "<tr>\n",
       "  <th>Time:</th>                 <td>15:47:51</td>     <th>  Log-Likelihood:    </th> <td> -2550.3</td>\n",
       "</tr>\n",
       "<tr>\n",
       "  <th>No. Observations:</th>      <td>   219</td>      <th>  AIC:               </th> <td>   5105.</td>\n",
       "</tr>\n",
       "<tr>\n",
       "  <th>Df Residuals:</th>          <td>   217</td>      <th>  BIC:               </th> <td>   5111.</td>\n",
       "</tr>\n",
       "<tr>\n",
       "  <th>Df Model:</th>              <td>     1</td>      <th>                     </th>     <td> </td>   \n",
       "</tr>\n",
       "<tr>\n",
       "  <th>Covariance Type:</th>      <td>nonrobust</td>    <th>                     </th>     <td> </td>   \n",
       "</tr>\n",
       "</table>\n",
       "<table class=\"simpletable\">\n",
       "<tr>\n",
       "    <td></td>       <th>coef</th>     <th>std err</th>      <th>t</th>      <th>P>|t|</th>  <th>[0.025</th>    <th>0.975]</th>  \n",
       "</tr>\n",
       "<tr>\n",
       "  <th>const</th> <td> 2998.6820</td> <td> 1910.378</td> <td>    1.570</td> <td> 0.118</td> <td> -766.590</td> <td> 6763.954</td>\n",
       "</tr>\n",
       "<tr>\n",
       "  <th>대출수</th>   <td>   -0.0007</td> <td>    0.004</td> <td>   -0.151</td> <td> 0.880</td> <td>   -0.009</td> <td>    0.008</td>\n",
       "</tr>\n",
       "</table>\n",
       "<table class=\"simpletable\">\n",
       "<tr>\n",
       "  <th>Omnibus:</th>       <td>485.999</td> <th>  Durbin-Watson:     </th>  <td>   2.017</td> \n",
       "</tr>\n",
       "<tr>\n",
       "  <th>Prob(Omnibus):</th> <td> 0.000</td>  <th>  Jarque-Bera (JB):  </th> <td>407688.098</td>\n",
       "</tr>\n",
       "<tr>\n",
       "  <th>Skew:</th>          <td>14.466</td>  <th>  Prob(JB):          </th>  <td>    0.00</td> \n",
       "</tr>\n",
       "<tr>\n",
       "  <th>Kurtosis:</th>      <td>212.383</td> <th>  Cond. No.          </th>  <td>4.36e+05</td> \n",
       "</tr>\n",
       "</table><br/><br/>Notes:<br/>[1] Standard Errors assume that the covariance matrix of the errors is correctly specified.<br/>[2] The condition number is large, 4.36e+05. This might indicate that there are<br/>strong multicollinearity or other numerical problems."
      ],
      "text/plain": [
       "<class 'statsmodels.iolib.summary.Summary'>\n",
       "\"\"\"\n",
       "                            OLS Regression Results                            \n",
       "==============================================================================\n",
       "Dep. Variable:                 최종 관객수   R-squared:                       0.000\n",
       "Model:                            OLS   Adj. R-squared:                 -0.005\n",
       "Method:                 Least Squares   F-statistic:                   0.02274\n",
       "Date:                Sun, 09 Oct 2022   Prob (F-statistic):              0.880\n",
       "Time:                        15:47:51   Log-Likelihood:                -2550.3\n",
       "No. Observations:                 219   AIC:                             5105.\n",
       "Df Residuals:                     217   BIC:                             5111.\n",
       "Df Model:                           1                                         \n",
       "Covariance Type:            nonrobust                                         \n",
       "==============================================================================\n",
       "                 coef    std err          t      P>|t|      [0.025      0.975]\n",
       "------------------------------------------------------------------------------\n",
       "const       2998.6820   1910.378      1.570      0.118    -766.590    6763.954\n",
       "대출수           -0.0007      0.004     -0.151      0.880      -0.009       0.008\n",
       "==============================================================================\n",
       "Omnibus:                      485.999   Durbin-Watson:                   2.017\n",
       "Prob(Omnibus):                  0.000   Jarque-Bera (JB):           407688.098\n",
       "Skew:                          14.466   Prob(JB):                         0.00\n",
       "Kurtosis:                     212.383   Cond. No.                     4.36e+05\n",
       "==============================================================================\n",
       "\n",
       "Notes:\n",
       "[1] Standard Errors assume that the covariance matrix of the errors is correctly specified.\n",
       "[2] The condition number is large, 4.36e+05. This might indicate that there are\n",
       "strong multicollinearity or other numerical problems.\n",
       "\"\"\""
      ]
     },
     "execution_count": 7,
     "metadata": {},
     "output_type": "execute_result"
    }
   ],
   "source": [
    "target = original_book[\"최종 관객수\"]\n",
    "x_data =  original_book[\"대출수\"]\n",
    "\n",
    "import statsmodels.api as sm\n",
    "x_data1 = sm.add_constant(x_data, has_constant = \"add\")\n",
    "\n",
    "multi_model = sm.OLS(target, x_data1)\n",
    "fitted_multi_model = multi_model.fit()\n",
    "\n",
    "fitted_multi_model.summary()"
   ]
  },
  {
   "cell_type": "markdown",
   "id": "ec5d37de",
   "metadata": {},
   "source": [
    "## 대출수와 최종 일일 관객수의 상관 분석"
   ]
  },
  {
   "cell_type": "code",
   "execution_count": 8,
   "id": "7663b270",
   "metadata": {},
   "outputs": [
    {
     "name": "stdout",
     "output_type": "stream",
     "text": [
      "상관분석 :  (0.012721562195480679, 0.851510005859157)\n"
     ]
    }
   ],
   "source": [
    "print(\"상관분석 : \", stats.pearsonr(original_book[\"최종 일일 관객수\"], original_book[\"대출수\"]))"
   ]
  },
  {
   "cell_type": "markdown",
   "id": "87bc1c65",
   "metadata": {},
   "source": [
    "## 대출수와 최종 일일 관객수의 회귀 분석"
   ]
  },
  {
   "cell_type": "code",
   "execution_count": 9,
   "id": "84deab35",
   "metadata": {
    "scrolled": true
   },
   "outputs": [
    {
     "data": {
      "text/html": [
       "<table class=\"simpletable\">\n",
       "<caption>OLS Regression Results</caption>\n",
       "<tr>\n",
       "  <th>Dep. Variable:</th>        <td>최종 일일 관객수</td>    <th>  R-squared:         </th> <td>   0.000</td>\n",
       "</tr>\n",
       "<tr>\n",
       "  <th>Model:</th>                   <td>OLS</td>       <th>  Adj. R-squared:    </th> <td>  -0.004</td>\n",
       "</tr>\n",
       "<tr>\n",
       "  <th>Method:</th>             <td>Least Squares</td>  <th>  F-statistic:       </th> <td> 0.03512</td>\n",
       "</tr>\n",
       "<tr>\n",
       "  <th>Date:</th>             <td>Sun, 09 Oct 2022</td> <th>  Prob (F-statistic):</th>  <td> 0.852</td> \n",
       "</tr>\n",
       "<tr>\n",
       "  <th>Time:</th>                 <td>15:47:51</td>     <th>  Log-Likelihood:    </th> <td> -1422.0</td>\n",
       "</tr>\n",
       "<tr>\n",
       "  <th>No. Observations:</th>      <td>   219</td>      <th>  AIC:               </th> <td>   2848.</td>\n",
       "</tr>\n",
       "<tr>\n",
       "  <th>Df Residuals:</th>          <td>   217</td>      <th>  BIC:               </th> <td>   2855.</td>\n",
       "</tr>\n",
       "<tr>\n",
       "  <th>Df Model:</th>              <td>     1</td>      <th>                     </th>     <td> </td>   \n",
       "</tr>\n",
       "<tr>\n",
       "  <th>Covariance Type:</th>      <td>nonrobust</td>    <th>                     </th>     <td> </td>   \n",
       "</tr>\n",
       "</table>\n",
       "<table class=\"simpletable\">\n",
       "<tr>\n",
       "    <td></td>       <th>coef</th>     <th>std err</th>      <th>t</th>      <th>P>|t|</th>  <th>[0.025</th>    <th>0.975]</th>  \n",
       "</tr>\n",
       "<tr>\n",
       "  <th>const</th> <td>   98.4377</td> <td>   11.056</td> <td>    8.904</td> <td> 0.000</td> <td>   76.647</td> <td>  120.229</td>\n",
       "</tr>\n",
       "<tr>\n",
       "  <th>대출수</th>   <td>  4.84e-06</td> <td> 2.58e-05</td> <td>    0.187</td> <td> 0.852</td> <td>-4.61e-05</td> <td> 5.57e-05</td>\n",
       "</tr>\n",
       "</table>\n",
       "<table class=\"simpletable\">\n",
       "<tr>\n",
       "  <th>Omnibus:</th>       <td>169.250</td> <th>  Durbin-Watson:     </th> <td>   2.223</td>\n",
       "</tr>\n",
       "<tr>\n",
       "  <th>Prob(Omnibus):</th> <td> 0.000</td>  <th>  Jarque-Bera (JB):  </th> <td>1647.129</td>\n",
       "</tr>\n",
       "<tr>\n",
       "  <th>Skew:</th>          <td> 3.081</td>  <th>  Prob(JB):          </th> <td>    0.00</td>\n",
       "</tr>\n",
       "<tr>\n",
       "  <th>Kurtosis:</th>      <td>14.939</td>  <th>  Cond. No.          </th> <td>4.36e+05</td>\n",
       "</tr>\n",
       "</table><br/><br/>Notes:<br/>[1] Standard Errors assume that the covariance matrix of the errors is correctly specified.<br/>[2] The condition number is large, 4.36e+05. This might indicate that there are<br/>strong multicollinearity or other numerical problems."
      ],
      "text/plain": [
       "<class 'statsmodels.iolib.summary.Summary'>\n",
       "\"\"\"\n",
       "                            OLS Regression Results                            \n",
       "==============================================================================\n",
       "Dep. Variable:              최종 일일 관객수   R-squared:                       0.000\n",
       "Model:                            OLS   Adj. R-squared:                 -0.004\n",
       "Method:                 Least Squares   F-statistic:                   0.03512\n",
       "Date:                Sun, 09 Oct 2022   Prob (F-statistic):              0.852\n",
       "Time:                        15:47:51   Log-Likelihood:                -1422.0\n",
       "No. Observations:                 219   AIC:                             2848.\n",
       "Df Residuals:                     217   BIC:                             2855.\n",
       "Df Model:                           1                                         \n",
       "Covariance Type:            nonrobust                                         \n",
       "==============================================================================\n",
       "                 coef    std err          t      P>|t|      [0.025      0.975]\n",
       "------------------------------------------------------------------------------\n",
       "const         98.4377     11.056      8.904      0.000      76.647     120.229\n",
       "대출수          4.84e-06   2.58e-05      0.187      0.852   -4.61e-05    5.57e-05\n",
       "==============================================================================\n",
       "Omnibus:                      169.250   Durbin-Watson:                   2.223\n",
       "Prob(Omnibus):                  0.000   Jarque-Bera (JB):             1647.129\n",
       "Skew:                           3.081   Prob(JB):                         0.00\n",
       "Kurtosis:                      14.939   Cond. No.                     4.36e+05\n",
       "==============================================================================\n",
       "\n",
       "Notes:\n",
       "[1] Standard Errors assume that the covariance matrix of the errors is correctly specified.\n",
       "[2] The condition number is large, 4.36e+05. This might indicate that there are\n",
       "strong multicollinearity or other numerical problems.\n",
       "\"\"\""
      ]
     },
     "execution_count": 9,
     "metadata": {},
     "output_type": "execute_result"
    }
   ],
   "source": [
    "target = original_book[\"최종 일일 관객수\"]\n",
    "x_data =  original_book[\"대출수\"]\n",
    "\n",
    "import statsmodels.api as sm\n",
    "x_data1 = sm.add_constant(x_data, has_constant = \"add\")\n",
    "\n",
    "multi_model = sm.OLS(target, x_data1)\n",
    "fitted_multi_model = multi_model.fit()\n",
    "\n",
    "fitted_multi_model.summary()"
   ]
  }
 ],
 "metadata": {
  "kernelspec": {
   "display_name": "Python 3 (ipykernel)",
   "language": "python",
   "name": "python3"
  },
  "language_info": {
   "codemirror_mode": {
    "name": "ipython",
    "version": 3
   },
   "file_extension": ".py",
   "mimetype": "text/x-python",
   "name": "python",
   "nbconvert_exporter": "python",
   "pygments_lexer": "ipython3",
   "version": "3.9.12"
  }
 },
 "nbformat": 4,
 "nbformat_minor": 5
}
